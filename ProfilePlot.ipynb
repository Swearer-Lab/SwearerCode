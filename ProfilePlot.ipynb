{
 "cells": [
  {
   "cell_type": "code",
   "execution_count": 1,
   "id": "8112f731-f24a-447e-989c-9a43a1ffd63b",
   "metadata": {},
   "outputs": [
    {
     "name": "stdout",
     "output_type": "stream",
     "text": [
      "C:\\Users\\jdnor\\Documents\\PlottingNB\n"
     ]
    }
   ],
   "source": [
    "from pathlib import Path\n",
    "import datetime\n",
    "import sys\n",
    "import scipy\n",
    "import random\n",
    "\n",
    "%config InlineBackend.figure_format='retina'\n",
    "import numpy as np\n",
    "import matplotlib.pyplot as plt\n",
    "import matplotlib.cm as cm\n",
    "import pandas as pd\n",
    "\n",
    "import matplotlib as mpl\n",
    "import matplotlib.font_manager as fm\n",
    "mpl.rc('text', usetex=False)\n",
    "#Code for using superscripts\n",
    "def get_super(x):\n",
    "    normal = \"ABCDEFGHIJKLMNOPQRSTUVWXYZabcdefghijklmnopqrstuvwxyz0123456789+-=()\"\n",
    "    super_s = \"ᴬᴮᶜᴰᴱᶠᴳᴴᴵᴶᴷᴸᴹᴺᴼᴾQᴿˢᵀᵁⱽᵂˣʸᶻᵃᵇᶜᵈᵉᶠᵍʰᶦʲᵏˡᵐⁿᵒᵖ۹ʳˢᵗᵘᵛʷˣʸᶻ⁰¹²³⁴⁵⁶⁷⁸⁹⁺⁻⁼⁽⁾\"\n",
    "    res = x.maketrans(''.join(normal), ''.join(super_s))\n",
    "    return x.translate(res)\n",
    "def get_sub(x):\n",
    "    normal = \"ABCDEFGHIJKLMNOPQRSTUVWXYZabcdefghijklmnopqrstuvwxyz0123456789+-=()\"\n",
    "    sub_s = \"ₐ₈CDₑբGₕᵢⱼₖₗₘₙₒₚQᵣₛₜᵤᵥwₓᵧZₐ♭꜀ᑯₑբ₉ₕᵢⱼₖₗₘₙₒₚ૧ᵣₛₜᵤᵥwₓᵧ₂₀₁₂₃₄₅₆₇₈₉₊₋₌₍₎\"\n",
    "    res = x.maketrans(''.join(normal), ''.join(sub_s))\n",
    "    return x.translate(res)\n",
    "#Checks to make sure you are in the right folder, if this is wrong reload\n",
    "import os\n",
    "print(os.getcwd())\n",
    "\n",
    "plt.rcParams['font.family'] = 'Helvetica'\n",
    "\n"
   ]
  },
  {
   "cell_type": "code",
   "execution_count": 5,
   "id": "e932050e-0758-4647-bdd4-088017e1ec90",
   "metadata": {},
   "outputs": [
    {
     "data": {
      "text/html": [
       "<div>\n",
       "<style scoped>\n",
       "    .dataframe tbody tr th:only-of-type {\n",
       "        vertical-align: middle;\n",
       "    }\n",
       "\n",
       "    .dataframe tbody tr th {\n",
       "        vertical-align: top;\n",
       "    }\n",
       "\n",
       "    .dataframe thead th {\n",
       "        text-align: right;\n",
       "    }\n",
       "</style>\n",
       "<table border=\"1\" class=\"dataframe\">\n",
       "  <thead>\n",
       "    <tr style=\"text-align: right;\">\n",
       "      <th></th>\n",
       "      <th>time</th>\n",
       "      <th>val</th>\n",
       "    </tr>\n",
       "  </thead>\n",
       "  <tbody>\n",
       "    <tr>\n",
       "      <th>0</th>\n",
       "      <td>0.423000</td>\n",
       "      <td>0.082763</td>\n",
       "    </tr>\n",
       "    <tr>\n",
       "      <th>1</th>\n",
       "      <td>0.847153</td>\n",
       "      <td>0.051250</td>\n",
       "    </tr>\n",
       "    <tr>\n",
       "      <th>2</th>\n",
       "      <td>1.271305</td>\n",
       "      <td>0.035975</td>\n",
       "    </tr>\n",
       "    <tr>\n",
       "      <th>3</th>\n",
       "      <td>1.695458</td>\n",
       "      <td>0.035952</td>\n",
       "    </tr>\n",
       "    <tr>\n",
       "      <th>4</th>\n",
       "      <td>2.119610</td>\n",
       "      <td>0.026517</td>\n",
       "    </tr>\n",
       "  </tbody>\n",
       "</table>\n",
       "</div>"
      ],
      "text/plain": [
       "       time       val\n",
       "0  0.423000  0.082763\n",
       "1  0.847153  0.051250\n",
       "2  1.271305  0.035975\n",
       "3  1.695458  0.035952\n",
       "4  2.119610  0.026517"
      ]
     },
     "metadata": {},
     "output_type": "display_data"
    },
    {
     "data": {
      "text/plain": [
       "237"
      ]
     },
     "metadata": {},
     "output_type": "display_data"
    },
    {
     "data": {
      "text/plain": [
       "0    0.423000\n",
       "1    0.847153\n",
       "2    1.271305\n",
       "3    1.695458\n",
       "4    2.119610\n",
       "Name: time, dtype: float64"
      ]
     },
     "metadata": {},
     "output_type": "display_data"
    }
   ],
   "source": [
    "# Choose .csv data file and turn it into dataframe\n",
    "\n",
    "\n",
    "colnames = [\"time\" , \"val\"] #Defines the column tites for a csv without titles\n",
    "\n",
    "file = pd.read_csv('Profile2496_44.CSV', names = colnames) #,header=[0,1])\n",
    "df = pd.DataFrame(file)\n",
    "prof_df = df.iloc[:] # returns whole data set\n",
    "# in the original code in this cell, this wavelength series takes the first column in the original .csv file. Modify as needed, including renaming.\n",
    "# assign your measurment names with detail here we will be appending them together later\n",
    "time = prof_df.iloc[:, 0]\n",
    "P2496_44 = prof_df.iloc[:, 1]\n",
    "#This list is the name as a string, the name as a variable, and whether or not you want to include the data in the plot.\n",
    "datalist = [[\"2496.44\",P2496_44, True]]\n",
    "#Change true to false for any one you want to expclude from a given plot.\n",
    "\n",
    "\n",
    "# To see all columns and all rows - you can change None to 10 if you want to see less results; this includes settings info that shows up at the end\n",
    "pd.set_option(\"display.max_rows\", None, \"display.max_columns\", None)\n",
    "# To return dataframe without settings at the end\n",
    "\n",
    "\n",
    "display(df.head())\n",
    "display(len(df))\n",
    "\n",
    "#display(P3333_41.head())\n",
    "display(time.head())\n",
    "\n",
    "#Copy this code to import multiple spectra after the first one. \n",
    "#Important things to change are the file name, and variable name you want to use for the data\n",
    "file = pd.read_csv('Profile2496_44.CSV', names = colnames) #,header=[0,1])\n",
    "df = pd.DataFrame(file)\n",
    "prof_df = df.iloc[:]\n",
    "P2496_44 = prof_df.iloc[:, 1]\n",
    "#This is a list both containing the dataframe you imported as well as a string of the variable name to use in the legend later\n",
    "datalist.append(['2496_44', P2496_44, False])\n",
    "\n"
   ]
  },
  {
   "cell_type": "code",
   "execution_count": 5,
   "id": "fde1d986-cd74-4905-b586-96c6dfc4efbb",
   "metadata": {},
   "outputs": [],
   "source": [
    "# Subtracting Spectra\n",
    "if False:\n",
    "    plus = \"O2CO_4_100C\"\n",
    "    minus =  \"O2CO_5_200C\"\n",
    "    for x in datalist:\n",
    "        if x[0] == plus:\n",
    "            plusdata = x[1]\n",
    "        elif x[0] == minus:\n",
    "            minusdata = x[1]\n",
    "    subdata = plusdata - minusdata\n",
    "    datalist.append([plus + \" - \" + minus, subdata,True])\n",
    "\n"
   ]
  },
  {
   "cell_type": "code",
   "execution_count": 18,
   "id": "21a71b6d-6846-40eb-951a-39f96b563ee8",
   "metadata": {},
   "outputs": [
    {
     "data": {
      "text/plain": [
       "0    0.0\n",
       "1    0.0\n",
       "2    0.0\n",
       "3    0.0\n",
       "4    0.0\n",
       "Name: val, dtype: float64"
      ]
     },
     "metadata": {},
     "output_type": "display_data"
    },
    {
     "data": {
      "text/plain": [
       "0    0.0\n",
       "1    0.0\n",
       "2    0.0\n",
       "3    0.0\n",
       "4    0.0\n",
       "Name: val, dtype: float64"
      ]
     },
     "metadata": {},
     "output_type": "display_data"
    }
   ],
   "source": [
    "\n",
    "    #wn1_df = normalizer.iloc[(normalizer['wavenum']-wn1).abs().argsort()[:1]].index[0]\n",
    "    #wn2_df = normalizer.iloc[(normalizer['wavenum']-wn1).abs().argsort()[:1]].index[0]\n",
    "    #norm_diff = normalizer.loc[wn1_df:wn2_df,:].loc[:,'val'].mean()\n",
    "    #print(norm_diff + x[0])\n",
    "\n",
    "\n"
   ]
  },
  {
   "cell_type": "code",
   "execution_count": 6,
   "id": "1efdb7ce-7254-48de-b721-09cb7bf38ad9",
   "metadata": {},
   "outputs": [
    {
     "name": "stdout",
     "output_type": "stream",
     "text": [
      "2496.44 : Yes\n",
      "2496_44 : No\n",
      "Index(['Time', '2496.44'], dtype='object')\n",
      "235\n",
      "0.06431048754237288yeet\n",
      "2496.44yeet\n"
     ]
    }
   ],
   "source": [
    "table_for_plot = pd.DataFrame({'Time': time}) \n",
    "#Sets wavemnuber for display\n",
    "\n",
    "for x in datalist:\n",
    "    if x[2]:\n",
    "        table_for_plot = table_for_plot.assign(temp = x[1])\n",
    "        table_for_plot = table_for_plot.rename(columns = {\"temp\" : x[0]})\n",
    "        print(x[0] + \" : Yes\")\n",
    "    else:\n",
    "        print(x[0] + \" : No\")\n",
    "print(table_for_plot.columns)\n",
    "#Loops through the list of data to add the data sets into a single dataframe and names it according to the string we set earlier.\n",
    "\n",
    "\n",
    "baseline = True\n",
    "if baseline:\n",
    " #aligning Data\n",
    "#Pick a section that has all data flat\n",
    "    wn1 = 0 # Start in time\n",
    "    wn2= 100 # End in time\n",
    "    wn1_df = table_for_plot.iloc[(table_for_plot['Time']-wn1).abs().argsort()[:1]].index[0]\n",
    "    wn2_df = table_for_plot.iloc[(table_for_plot['Time']-wn2).abs().argsort()[:1]].index[0]  \n",
    "    table_width = int(table_for_plot.size/len(table_for_plot))\n",
    "    print(wn2_df)\n",
    "    for column in table_for_plot.columns:\n",
    "        if column != \"Time\":\n",
    "            norm_diff = table_for_plot.loc[wn1_df:wn2_df,:].loc[:,column].mean()\n",
    "            table_for_plot[column] = table_for_plot[column] - norm_diff\n",
    "            print(str(norm_diff) + \"yeet\")\n",
    "            print(column + \"yeet\")\n",
    "   "
   ]
  },
  {
   "cell_type": "code",
   "execution_count": null,
   "id": "9231837c-aa77-4836-b348-8c4904e59910",
   "metadata": {},
   "outputs": [],
   "source": []
  },
  {
   "cell_type": "code",
   "execution_count": 9,
   "id": "a03b110a-b91d-42e3-97b6-e7814128b77e",
   "metadata": {},
   "outputs": [
    {
     "name": "stdout",
     "output_type": "stream",
     "text": [
      "[-0.07, -0.04, 0.0, 0.04, 0.07]\n",
      "AxesSubplot(0.125521,0.422222;0.823958x0.427778)\n"
     ]
    },
    {
     "data": {
      "image/png": "[encoded data removed]",
      "text/plain": [
       "<Figure size 288x72 with 1 Axes>"
      ]
     },
     "metadata": {
      "image/png": {
       "height": 65,
       "width": 281
      },
      "needs_background": "light"
     },
     "output_type": "display_data"
    }
   ],
   "source": [
    "\n",
    "font_size = 0.8\n",
    "fig = table_for_plot.set_index('Time').plot(figsize=(4, 1), linewidth = 0.6*font_size)\n",
    "\n",
    "\n",
    "mpl.rcParams['pdf.fonttype'] = 42\n",
    "\n",
    "fm.findfont('Helvetica')\n",
    "\n",
    "# Axis labels\n",
    "\n",
    "fig.set_xlabel(\"Time (s)\", fontsize = 8*font_size)\n",
    "fig.set_ylabel(\"\\u0394A\", fontsize = 8*font_size, name = 'Helvetica')\n",
    "\n",
    "\n",
    "for axis in ['bottom','left']:\n",
    "    fig.spines[axis].set_linewidth(0.6*font_size)\n",
    "    fig.spines[axis].set_position((\"axes\", 0))\n",
    "for axis in ['top','right']:\n",
    "    fig.spines[axis].set_visible(True)\n",
    "    fig.spines[axis].set_linewidth(0.6*font_size)\n",
    "\n",
    "\n",
    "\n",
    "#print(table_for_plot.columns[1:])\n",
    "# And adjust length and tkickness of tick marks\n",
    "fig.tick_params(width = 0.6*font_size, length = 2*font_size)\n",
    "fig.tick_params(axis='both', which='minor', labelsize=8)\n",
    "plt.xticks(fontsize=5*font_size)\n",
    "plt.yticks(fontsize=5*font_size)\n",
    "\n",
    "\n",
    "\n",
    "#plt.title('NH' + get_sub(\"3\") + ' DRIFTS CuRu/SiO' + get_sub('2'), fontsize = 120)\n",
    "#plt.title('NH' + get_sub(\"3\") + ' DRIFTS CuRu/MgOAl' + get_sub('2') + \"O\" + get_sub('3'), fontsize = 120)\n",
    "fig.yaxis.set_ticks_position('left')\n",
    "fig.xaxis.set_ticks_position('bottom')\n",
    "#Adjusting range and tick frequency of x axis\n",
    "xhigh = 100\n",
    "xlow = 0\n",
    "xpoints = 11\n",
    "xdigits = 0\n",
    "xlabels = [round(num, xdigits) for num in np.linspace(xlow, xhigh, xpoints)]\n",
    "if xdigits <= 0:\n",
    "    xlabels = [int(num) for num in xlabels]\n",
    "\n",
    "fig.set_xticks(xlabels)\n",
    "fig.set_xticklabels(xlabels)\n",
    "fig.set_xlim(xlow, xhigh)\n",
    "\n",
    "yhigh = 0.07\n",
    "ylow = -0.07\n",
    "ypoints = 5\n",
    "ydigits = 2\n",
    "\n",
    "ylabels = [round(num,ydigits) for num in np.linspace(ylow, yhigh, ypoints)]\n",
    "if ydigits <= 0:\n",
    "    ylabels = [int(num) for num in ylabels]\n",
    "print (ylabels)\n",
    "\n",
    "fig.set_yticks(ylabels)\n",
    "fig.set_yticklabels(ylabels)\n",
    "fig.set_ylim(ylow + (ylow - yhigh)/10, yhigh + (yhigh - ylow)/10)\n",
    "\n",
    "#fig.axes.get_yaxis().set_visible(False)\n",
    "fig.legend(fontsize = 6*font_size, loc = \"lower right\")\n",
    "plt.tight_layout()\n",
    "print(fig)\n",
    "#Put the name you want for your figure here, it will be saved as \"Fig_'Name'\" with both a jpg for quick use and an eps for detailed edits.\n",
    "fig_name = 'Prof_230630_CuRuAl2O3_NH3run_5s_2496_44'\n",
    "plt.savefig(Path.cwd() / \"Plot_{}.jpg\".format(fig_name), bbox_inches=\"tight\", dpi=100)\n",
    "\n",
    "plt.savefig(Path.cwd() / \"Plot_{}.pdf\".format(fig_name), format='pdf')\n",
    "plt.show()\n"
   ]
  },
  {
   "cell_type": "code",
   "execution_count": null,
   "id": "11562ba6-1d09-4153-8463-20e02085b6f4",
   "metadata": {},
   "outputs": [],
   "source": []
  }
 ],
 "metadata": {
  "kernelspec": {
   "display_name": "Python 3 (ipykernel)",
   "language": "python",
   "name": "python3"
  },
  "language_info": {
   "codemirror_mode": {
    "name": "ipython",
    "version": 3
   },
   "file_extension": ".py",
   "mimetype": "text/x-python",
   "name": "python",
   "nbconvert_exporter": "python",
   "pygments_lexer": "ipython3",
   "version": "3.9.17"
  }
 },
 "nbformat": 4,
 "nbformat_minor": 5
}
